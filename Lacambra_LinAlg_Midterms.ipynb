{
  "nbformat": 4,
  "nbformat_minor": 0,
  "metadata": {
    "kernelspec": {
      "display_name": "Python 3",
      "language": "python",
      "name": "python3"
    },
    "language_info": {
      "codemirror_mode": {
        "name": "ipython",
        "version": 3
      },
      "file_extension": ".py",
      "mimetype": "text/x-python",
      "name": "python",
      "nbconvert_exporter": "python",
      "pygments_lexer": "ipython3",
      "version": "3.8.3"
    },
    "colab": {
      "name": "Lacambra_LinAlg-Midterms.ipynb",
      "provenance": [],
      "collapsed_sections": [],
      "include_colab_link": true
    }
  },
  "cells": [
    {
      "cell_type": "markdown",
      "metadata": {
        "id": "view-in-github",
        "colab_type": "text"
      },
      "source": [
        "<a href=\"https://colab.research.google.com/github/Jalen18/Midterm-Exam/blob/main/Lacambra_LinAlg_Midterms.ipynb\" target=\"_parent\"><img src=\"https://colab.research.google.com/assets/colab-badge.svg\" alt=\"Open In Colab\"/></a>"
      ]
    },
    {
      "cell_type": "markdown",
      "metadata": {
        "id": "SnCypWooLH5K"
      },
      "source": [
        "<h1>Linear Algebra (CpE210A)"
      ]
    },
    {
      "cell_type": "markdown",
      "metadata": {
        "id": "q7S68YOXLH5P"
      },
      "source": [
        "<h3>Midterms Project"
      ]
    },
    {
      "cell_type": "markdown",
      "metadata": {
        "id": "rJs6AiysLH5P"
      },
      "source": [
        "Coded and submitted by:<br>\n",
        "<i>Lacambra, Jalen Rhey A.<br>\n",
        "    201912014 <br>\n",
        "   58051 </i>"
      ]
    },
    {
      "cell_type": "markdown",
      "metadata": {
        "id": "9iiimW8FLH5P"
      },
      "source": [
        "Directions\n",
        "This Jupyter Notebook will serve as your base code for your Midterm Project. You must further format and provide complete discussion on the given topic. \n",
        "- Provide all necessary explanations for specific code blocks. \n",
        "- Provide illustrations for key results.\n",
        "- Observe clean code (intuitive variable names, proper commenting, proper code spacing)\n",
        "- Provide a summary discussion at the end\n",
        "\n",
        "Failure to use this format or failure to update the document will be given a deduction equivalent to 50% of the original score. "
      ]
    },
    {
      "cell_type": "markdown",
      "metadata": {
        "id": "gbvxh3EILH5Q"
      },
      "source": [
        "### Case"
      ]
    },
    {
      "cell_type": "markdown",
      "metadata": {
        "id": "Kde5dZmHLH5Q"
      },
      "source": [
        "Bebang is back to consult you about her business. Furthering her data analytics initiative she asks you for help to compute some relevant data. Now she is asking you to compute and visualize her sales and costs for the past year. She has given you the datasets attached to her request."
      ]
    },
    {
      "cell_type": "markdown",
      "metadata": {
        "id": "2Ky38OfILH5Q"
      },
      "source": [
        "### Problem"
      ]
    },
    {
      "cell_type": "markdown",
      "metadata": {
        "id": "31g9gkCELH5Q"
      },
      "source": [
        "State and explain Bebang's problem here and provide the deliverables."
      ]
    },
    {
      "cell_type": "markdown",
      "metadata": {
        "id": "_4v9UlIcLH5R"
      },
      "source": [
        "# Proof of Concept"
      ]
    },
    {
      "cell_type": "markdown",
      "metadata": {
        "id": "gPQvcAmNLH5R"
      },
      "source": [
        "Now that you have a grasp on the requirements we need to start with making a program to prove that her problem is solvable. As a Linear Algebra student, we will be focusin on applying vector operations to meet her needs. First, we need to import her data. We will use the `pandas` library for this. For more information you can look into their documentation [here](https://pandas.pydata.org/)."
      ]
    },
    {
      "cell_type": "code",
      "metadata": {
        "id": "Q6hkQomrLH5R",
        "colab": {
          "base_uri": "https://localhost:8080/",
          "height": 162
        },
        "outputId": "85073d7b-2fc8-4e69-d148-d6a0a5ae9215"
      },
      "source": [
        "import pandas as pd\n",
        "\n",
        "file_prices = \"bebang prices.csv\"\n",
        "file_sales = \"bebang sales.csv\"\n",
        "\n",
        "df_prices = pd.read_csv(file_prices, index_col=0)\n",
        "df_sales = pd.read_csv(file_sales)\n",
        "\n",
        "\n",
        "## Let's check what's in df_prices\n",
        "df_prices"
      ],
      "execution_count": 8,
      "outputs": [
        {
          "output_type": "execute_result",
          "data": {
            "text/html": [
              "<div>\n",
              "<style scoped>\n",
              "    .dataframe tbody tr th:only-of-type {\n",
              "        vertical-align: middle;\n",
              "    }\n",
              "\n",
              "    .dataframe tbody tr th {\n",
              "        vertical-align: top;\n",
              "    }\n",
              "\n",
              "    .dataframe thead th {\n",
              "        text-align: right;\n",
              "    }\n",
              "</style>\n",
              "<table border=\"1\" class=\"dataframe\">\n",
              "  <thead>\n",
              "    <tr style=\"text-align: right;\">\n",
              "      <th></th>\n",
              "      <th>red velvet</th>\n",
              "      <th>oreo</th>\n",
              "      <th>sugar glazed</th>\n",
              "      <th>almond honey</th>\n",
              "      <th>matcha</th>\n",
              "      <th>strawberry cream</th>\n",
              "      <th>brown sugar boba</th>\n",
              "      <th>furits and nuts</th>\n",
              "      <th>dark chocolate</th>\n",
              "      <th>chocolate and orange</th>\n",
              "      <th>choco mint</th>\n",
              "      <th>choco butter naught</th>\n",
              "    </tr>\n",
              "  </thead>\n",
              "  <tbody>\n",
              "    <tr>\n",
              "      <th>price per piece</th>\n",
              "      <td>35</td>\n",
              "      <td>25</td>\n",
              "      <td>20</td>\n",
              "      <td>35</td>\n",
              "      <td>50</td>\n",
              "      <td>40</td>\n",
              "      <td>40</td>\n",
              "      <td>45</td>\n",
              "      <td>30</td>\n",
              "      <td>40</td>\n",
              "      <td>45</td>\n",
              "      <td>45</td>\n",
              "    </tr>\n",
              "    <tr>\n",
              "      <th>cost per piece</th>\n",
              "      <td>25</td>\n",
              "      <td>15</td>\n",
              "      <td>10</td>\n",
              "      <td>20</td>\n",
              "      <td>35</td>\n",
              "      <td>31</td>\n",
              "      <td>30</td>\n",
              "      <td>25</td>\n",
              "      <td>15</td>\n",
              "      <td>25</td>\n",
              "      <td>32</td>\n",
              "      <td>31</td>\n",
              "    </tr>\n",
              "  </tbody>\n",
              "</table>\n",
              "</div>"
            ],
            "text/plain": [
              "                 red velvet  oreo  ...  choco mint  choco butter naught\n",
              "price per piece          35    25  ...          45                   45\n",
              "cost per piece           25    15  ...          32                   31\n",
              "\n",
              "[2 rows x 12 columns]"
            ]
          },
          "metadata": {
            "tags": []
          },
          "execution_count": 8
        }
      ]
    },
    {
      "cell_type": "code",
      "metadata": {
        "id": "ewYnNn1_LH5S",
        "colab": {
          "base_uri": "https://localhost:8080/",
          "height": 421
        },
        "outputId": "26667d13-8946-4d45-9b14-ef3c8cece226"
      },
      "source": [
        "## Let's check the sales dataframe\n",
        "df_sales"
      ],
      "execution_count": 9,
      "outputs": [
        {
          "output_type": "execute_result",
          "data": {
            "text/html": [
              "<div>\n",
              "<style scoped>\n",
              "    .dataframe tbody tr th:only-of-type {\n",
              "        vertical-align: middle;\n",
              "    }\n",
              "\n",
              "    .dataframe tbody tr th {\n",
              "        vertical-align: top;\n",
              "    }\n",
              "\n",
              "    .dataframe thead th {\n",
              "        text-align: right;\n",
              "    }\n",
              "</style>\n",
              "<table border=\"1\" class=\"dataframe\">\n",
              "  <thead>\n",
              "    <tr style=\"text-align: right;\">\n",
              "      <th></th>\n",
              "      <th>flavor</th>\n",
              "      <th>january</th>\n",
              "      <th>february</th>\n",
              "      <th>march</th>\n",
              "      <th>april</th>\n",
              "      <th>may</th>\n",
              "      <th>june</th>\n",
              "      <th>july</th>\n",
              "      <th>august</th>\n",
              "      <th>september</th>\n",
              "      <th>october</th>\n",
              "      <th>november</th>\n",
              "      <th>december</th>\n",
              "    </tr>\n",
              "  </thead>\n",
              "  <tbody>\n",
              "    <tr>\n",
              "      <th>0</th>\n",
              "      <td>red velvet</td>\n",
              "      <td>781</td>\n",
              "      <td>524</td>\n",
              "      <td>364</td>\n",
              "      <td>157</td>\n",
              "      <td>894</td>\n",
              "      <td>56</td>\n",
              "      <td>89</td>\n",
              "      <td>41</td>\n",
              "      <td>23</td>\n",
              "      <td>78</td>\n",
              "      <td>231</td>\n",
              "      <td>899</td>\n",
              "    </tr>\n",
              "    <tr>\n",
              "      <th>1</th>\n",
              "      <td>oreo</td>\n",
              "      <td>210</td>\n",
              "      <td>324</td>\n",
              "      <td>344</td>\n",
              "      <td>32</td>\n",
              "      <td>123</td>\n",
              "      <td>1</td>\n",
              "      <td>3</td>\n",
              "      <td>0</td>\n",
              "      <td>1</td>\n",
              "      <td>6</td>\n",
              "      <td>312</td>\n",
              "      <td>548</td>\n",
              "    </tr>\n",
              "    <tr>\n",
              "      <th>2</th>\n",
              "      <td>sugar glazed</td>\n",
              "      <td>599</td>\n",
              "      <td>674</td>\n",
              "      <td>854</td>\n",
              "      <td>14</td>\n",
              "      <td>467</td>\n",
              "      <td>78</td>\n",
              "      <td>36</td>\n",
              "      <td>48</td>\n",
              "      <td>75</td>\n",
              "      <td>98</td>\n",
              "      <td>781</td>\n",
              "      <td>1602</td>\n",
              "    </tr>\n",
              "    <tr>\n",
              "      <th>3</th>\n",
              "      <td>almond honey</td>\n",
              "      <td>124</td>\n",
              "      <td>112</td>\n",
              "      <td>114</td>\n",
              "      <td>23</td>\n",
              "      <td>198</td>\n",
              "      <td>12</td>\n",
              "      <td>32</td>\n",
              "      <td>41</td>\n",
              "      <td>23</td>\n",
              "      <td>36</td>\n",
              "      <td>300</td>\n",
              "      <td>566</td>\n",
              "    </tr>\n",
              "    <tr>\n",
              "      <th>4</th>\n",
              "      <td>matcha</td>\n",
              "      <td>645</td>\n",
              "      <td>498</td>\n",
              "      <td>885</td>\n",
              "      <td>98</td>\n",
              "      <td>177</td>\n",
              "      <td>98</td>\n",
              "      <td>43</td>\n",
              "      <td>96</td>\n",
              "      <td>26</td>\n",
              "      <td>71</td>\n",
              "      <td>549</td>\n",
              "      <td>897</td>\n",
              "    </tr>\n",
              "    <tr>\n",
              "      <th>5</th>\n",
              "      <td>strawberry cream</td>\n",
              "      <td>210</td>\n",
              "      <td>372</td>\n",
              "      <td>369</td>\n",
              "      <td>78</td>\n",
              "      <td>163</td>\n",
              "      <td>26</td>\n",
              "      <td>45</td>\n",
              "      <td>22</td>\n",
              "      <td>54</td>\n",
              "      <td>41</td>\n",
              "      <td>207</td>\n",
              "      <td>456</td>\n",
              "    </tr>\n",
              "    <tr>\n",
              "      <th>6</th>\n",
              "      <td>brown sugar boba</td>\n",
              "      <td>981</td>\n",
              "      <td>380</td>\n",
              "      <td>154</td>\n",
              "      <td>14</td>\n",
              "      <td>147</td>\n",
              "      <td>15</td>\n",
              "      <td>98</td>\n",
              "      <td>33</td>\n",
              "      <td>23</td>\n",
              "      <td>36</td>\n",
              "      <td>552</td>\n",
              "      <td>633</td>\n",
              "    </tr>\n",
              "    <tr>\n",
              "      <th>7</th>\n",
              "      <td>furits and nuts</td>\n",
              "      <td>478</td>\n",
              "      <td>462</td>\n",
              "      <td>354</td>\n",
              "      <td>49</td>\n",
              "      <td>89</td>\n",
              "      <td>0</td>\n",
              "      <td>1</td>\n",
              "      <td>0</td>\n",
              "      <td>1</td>\n",
              "      <td>8</td>\n",
              "      <td>335</td>\n",
              "      <td>214</td>\n",
              "    </tr>\n",
              "    <tr>\n",
              "      <th>8</th>\n",
              "      <td>dark chocolate</td>\n",
              "      <td>598</td>\n",
              "      <td>203</td>\n",
              "      <td>36</td>\n",
              "      <td>96</td>\n",
              "      <td>789</td>\n",
              "      <td>4</td>\n",
              "      <td>5</td>\n",
              "      <td>0</td>\n",
              "      <td>8</td>\n",
              "      <td>0</td>\n",
              "      <td>789</td>\n",
              "      <td>458</td>\n",
              "    </tr>\n",
              "    <tr>\n",
              "      <th>9</th>\n",
              "      <td>chocolate and orange</td>\n",
              "      <td>324</td>\n",
              "      <td>123</td>\n",
              "      <td>48</td>\n",
              "      <td>32</td>\n",
              "      <td>65</td>\n",
              "      <td>74</td>\n",
              "      <td>78</td>\n",
              "      <td>45</td>\n",
              "      <td>89</td>\n",
              "      <td>100</td>\n",
              "      <td>632</td>\n",
              "      <td>231</td>\n",
              "    </tr>\n",
              "    <tr>\n",
              "      <th>10</th>\n",
              "      <td>choco mint</td>\n",
              "      <td>458</td>\n",
              "      <td>412</td>\n",
              "      <td>78</td>\n",
              "      <td>78</td>\n",
              "      <td>78</td>\n",
              "      <td>7</td>\n",
              "      <td>3</td>\n",
              "      <td>8</td>\n",
              "      <td>2</td>\n",
              "      <td>1</td>\n",
              "      <td>323</td>\n",
              "      <td>564</td>\n",
              "    </tr>\n",
              "    <tr>\n",
              "      <th>11</th>\n",
              "      <td>choco butter naught</td>\n",
              "      <td>778</td>\n",
              "      <td>586</td>\n",
              "      <td>645</td>\n",
              "      <td>100</td>\n",
              "      <td>987</td>\n",
              "      <td>63</td>\n",
              "      <td>36</td>\n",
              "      <td>89</td>\n",
              "      <td>78</td>\n",
              "      <td>99</td>\n",
              "      <td>784</td>\n",
              "      <td>2310</td>\n",
              "    </tr>\n",
              "  </tbody>\n",
              "</table>\n",
              "</div>"
            ],
            "text/plain": [
              "                  flavor  january  february  ...  october  november  december\n",
              "0             red velvet      781       524  ...       78       231       899\n",
              "1                   oreo      210       324  ...        6       312       548\n",
              "2           sugar glazed      599       674  ...       98       781      1602\n",
              "3           almond honey      124       112  ...       36       300       566\n",
              "4                 matcha      645       498  ...       71       549       897\n",
              "5       strawberry cream      210       372  ...       41       207       456\n",
              "6       brown sugar boba      981       380  ...       36       552       633\n",
              "7        furits and nuts      478       462  ...        8       335       214\n",
              "8         dark chocolate      598       203  ...        0       789       458\n",
              "9   chocolate and orange      324       123  ...      100       632       231\n",
              "10            choco mint      458       412  ...        1       323       564\n",
              "11   choco butter naught      778       586  ...       99       784      2310\n",
              "\n",
              "[12 rows x 13 columns]"
            ]
          },
          "metadata": {
            "tags": []
          },
          "execution_count": 9
        }
      ]
    },
    {
      "cell_type": "markdown",
      "metadata": {
        "id": "BfFBtpfxLH5S"
      },
      "source": [
        "## Part 1: Monthly Sales"
      ]
    },
    {
      "cell_type": "code",
      "metadata": {
        "id": "lO2HWhWNLH5S",
        "colab": {
          "base_uri": "https://localhost:8080/"
        },
        "outputId": "35fa978b-6f39-4c10-a431-3f5c8b9da708"
      },
      "source": [
        "import numpy as np\n",
        "### Vectorizing the data\n",
        "\n",
        "sales_mat = np.array(df_sales.set_index('flavor'))\n",
        "A = np.array(df_prices)[:1] ## reshape this vector to the appropriate size\n",
        "B = np.array(df_prices)[1:] ## reshape this vector to the appropriate size\n",
        "prices_mat = np.transpose(A)\n",
        "costs_mat = np.transpose(B)\n",
        "\n",
        "\n",
        "## Do not alter these lines\n",
        "print(sales_mat.shape)\n",
        "print(prices_mat.shape)\n",
        "print(costs_mat.shape)\n",
        "# Expected Output\n",
        "# (12, 12)\n",
        "# (12, 1)\n",
        "# (12, 1)"
      ],
      "execution_count": 10,
      "outputs": [
        {
          "output_type": "stream",
          "text": [
            "(12, 12)\n",
            "(12, 1)\n",
            "(12, 1)\n"
          ],
          "name": "stdout"
        }
      ]
    },
    {
      "cell_type": "markdown",
      "metadata": {
        "id": "9-L807YOLH5T"
      },
      "source": [
        "#### Formulas"
      ]
    },
    {
      "cell_type": "markdown",
      "metadata": {
        "id": "nUbleZODLH5T"
      },
      "source": [
        "Take note that the fomula for revenue is: <br>\n",
        "$revenue = sales * price $ <br>\n",
        "In this case, think that revenue, sales, and price are vectors instead of individual values <br>\n",
        "The formula of cost per item sold is: <br>\n",
        "$cost_{sold} = sales * cost$ <br>\n",
        "The formula for profit is: <br>\n",
        "$profit = revenue - cost_{sold}$ <br>\n",
        "Solving for the monthly profit will be the sum of all profits made on that month."
      ]
    },
    {
      "cell_type": "code",
      "metadata": {
        "id": "P0LLZNB-LH5T"
      },
      "source": [
        "#Create a function that *returns* and prints the monthly sales and profit for each month \n",
        "def monthly_sales(price, cost, sales):\n",
        "    monthly_revenue = sales * price\n",
        "    monthly_costs = sales * cost\n",
        "    monthly_profits = monthly_revenue - monthly_costs  \n",
        "\n",
        "    monthlyprofit = monthly_profits.transpose()\n",
        "    monthprofit = monthlyprofit.sum(axis = 1)\n",
        "\n",
        "    df_profit = pd.DataFrame(monthprofit)\n",
        "    df_profit.columns = [\"Monthly Profits\"]\n",
        "    df_profit.index = [\"January\",\"February\",\n",
        "                       \"March\",\"April\",\"May\",\n",
        "                       \"June\",\"July\",\"August\",\n",
        "                       \"September\",\"October\",\n",
        "                       \"November\",\"December\"]\n",
        "    print(df_profit)\n",
        "\n",
        "    return monthly_revenue.flatten(), monthly_costs.flatten(), monthly_profits.flatten()"
      ],
      "execution_count": 11,
      "outputs": []
    },
    {
      "cell_type": "code",
      "metadata": {
        "id": "0LGNVsfsLH5T",
        "colab": {
          "base_uri": "https://localhost:8080/"
        },
        "outputId": "d85cea72-5cfe-4e24-8595-2c1bdf634025"
      },
      "source": [
        "### Do not alter this cell\n",
        "monthly_revenue, monthly_cost, monthly_profit = monthly_sales(prices_mat, costs_mat, sales_mat)\n",
        "### print the values\n",
        "print(\"=\"*80)\n",
        "print(\"Revenues\\n\",monthly_revenue)\n",
        "print(\"=\"*80)\n",
        "print(\"Costs\\n\", monthly_cost)\n",
        "print(\"=\"*80)\n",
        "print(\"Profits\\n\" ,monthly_profit)"
      ],
      "execution_count": 15,
      "outputs": [
        {
          "output_type": "stream",
          "text": [
            "           Monthly Profits\n",
            "January              79371\n",
            "February             59208\n",
            "March                53850\n",
            "April                10001\n",
            "May                  52824\n",
            "June                  5527\n",
            "July                  5598\n",
            "August                5498\n",
            "September             5034\n",
            "October               7213\n",
            "November             76548\n",
            "December            117156\n",
            "================================================================================\n",
            "Revenues\n",
            " [ 27335  18340  12740   5495  31290   1960   3115   1435    805   2730\n",
            "   8085  31465   5250   8100   8600    800   3075     25     75      0\n",
            "     25    150   7800  13700  11980  13480  17080    280   9340   1560\n",
            "    720    960   1500   1960  15620  32040   4340   3920   3990    805\n",
            "   6930    420   1120   1435    805   1260  10500  19810  32250  24900\n",
            "  44250   4900   8850   4900   2150   4800   1300   3550  27450  44850\n",
            "   8400  14880  14760   3120   6520   1040   1800    880   2160   1640\n",
            "   8280  18240  39240  15200   6160    560   5880    600   3920   1320\n",
            "    920   1440  22080  25320  21510  20790  15930   2205   4005      0\n",
            "     45      0     45    360  15075   9630  17940   6090   1080   2880\n",
            "  23670    120    150      0    240      0  23670  13740  12960   4920\n",
            "   1920   1280   2600   2960   3120   1800   3560   4000  25280   9240\n",
            "  20610  18540   3510   3510   3510    315    135    360     90     45\n",
            "  14535  25380  35010  26370  29025   4500  44415   2835   1620   4005\n",
            "   3510   4455  35280 103950]\n",
            "================================================================================\n",
            "Costs\n",
            " [19525 13100  9100  3925 22350  1400  2225  1025   575  1950  5775 22475\n",
            "  3150  4860  5160   480  1845    15    45     0    15    90  4680  8220\n",
            "  5990  6740  8540   140  4670   780   360   480   750   980  7810 16020\n",
            "  2480  2240  2280   460  3960   240   640   820   460   720  6000 11320\n",
            " 22575 17430 30975  3430  6195  3430  1505  3360   910  2485 19215 31395\n",
            "  6510 11532 11439  2418  5053   806  1395   682  1674  1271  6417 14136\n",
            " 29430 11400  4620   420  4410   450  2940   990   690  1080 16560 18990\n",
            " 11950 11550  8850  1225  2225     0    25     0    25   200  8375  5350\n",
            "  8970  3045   540  1440 11835    60    75     0   120     0 11835  6870\n",
            "  8100  3075  1200   800  1625  1850  1950  1125  2225  2500 15800  5775\n",
            " 14656 13184  2496  2496  2496   224    96   256    64    32 10336 18048\n",
            " 24118 18166 19995  3100 30597  1953  1116  2759  2418  3069 24304 71610]\n",
            "================================================================================\n",
            "Profits\n",
            " [ 7810  5240  3640  1570  8940   560   890   410   230   780  2310  8990\n",
            "  2100  3240  3440   320  1230    10    30     0    10    60  3120  5480\n",
            "  5990  6740  8540   140  4670   780   360   480   750   980  7810 16020\n",
            "  1860  1680  1710   345  2970   180   480   615   345   540  4500  8490\n",
            "  9675  7470 13275  1470  2655  1470   645  1440   390  1065  8235 13455\n",
            "  1890  3348  3321   702  1467   234   405   198   486   369  1863  4104\n",
            "  9810  3800  1540   140  1470   150   980   330   230   360  5520  6330\n",
            "  9560  9240  7080   980  1780     0    20     0    20   160  6700  4280\n",
            "  8970  3045   540  1440 11835    60    75     0   120     0 11835  6870\n",
            "  4860  1845   720   480   975  1110  1170   675  1335  1500  9480  3465\n",
            "  5954  5356  1014  1014  1014    91    39   104    26    13  4199  7332\n",
            " 10892  8204  9030  1400 13818   882   504  1246  1092  1386 10976 32340]\n"
          ],
          "name": "stdout"
        }
      ]
    },
    {
      "cell_type": "markdown",
      "metadata": {
        "id": "4WnrnN97LH5T"
      },
      "source": [
        "## Part 2: Flavor Sales"
      ]
    },
    {
      "cell_type": "code",
      "metadata": {
        "id": "qA5UviYjLH5T"
      },
      "source": [
        "#Create a function that *returns* and prints the flavor profits for the whole year \n",
        "A = []\n",
        "def flavor_sales(price, cost, sales):\n",
        "    flavor_revenue = sales * price\n",
        "    flavor_costs = sales * cost\n",
        "    flavor_profits = flavor_revenue - flavor_costs\n",
        "\n",
        "    RedVelvet = flavor_profits[0].sum()\n",
        "    A.append(RedVelvet)\n",
        "\n",
        "    Oreo = flavor_profits[1].sum()\n",
        "    A.append(Oreo)\n",
        "\n",
        "    SugarGlazed = flavor_profits[2].sum()\n",
        "    A.append(SugarGlazed)\n",
        "\n",
        "    AlmondHoney = flavor_profits[3].sum()\n",
        "    A.append(AlmondHoney)\n",
        "\n",
        "    Matcha =  flavor_profits[4].sum()\n",
        "    A.append(Matcha)\n",
        "\n",
        "    StrawberryCream =  flavor_profits[5].sum()\n",
        "    A.append(StrawberryCream)\n",
        "\n",
        "    BrownSugarBoba =  flavor_profits[6].sum()\n",
        "    A.append(BrownSugarBoba)\n",
        "\n",
        "    FuritsAndNuts =  flavor_profits[7].sum()\n",
        "    A.append(FuritsAndNuts)\n",
        "\n",
        "    DarkChocolate =  flavor_profits[8].sum()\n",
        "    A.append(DarkChocolate)\n",
        "\n",
        "    ChocolateAndOrange =  flavor_profits[9].sum()\n",
        "    A.append(ChocolateAndOrange)\n",
        "\n",
        "    ChocoMint =  flavor_profits[10].sum()\n",
        "    A.append(ChocoMint)\n",
        "\n",
        "    ChocoButterNaught =  flavor_profits[11].sum()\n",
        "    A.append(ChocoButterNaught)\n",
        "\n",
        "    df_flavors = pd.DataFrame(A)\n",
        "    df_flavors.columns = [\"Yearly Profit\"]\n",
        "    df_flavors.index = [\"RedVelvet\",\"Oreo\",\n",
        "                        \"SugarGlazed\",\"AlmondHoney\",\n",
        "                        \"Matcha\",\"StrawberryCream\",\"BrownSugarBoba\",\n",
        "                        \"FuritsAndNuts\",\" DarkChocolate\",\"ChocolateAndOrange\",\n",
        "                        \"ChocoMint\",\"ChocoButterNaught\"]\n",
        "\n",
        "    print(df_flavors)\n",
        "\n",
        "    return flavor_profits.flatten()\n",
        "\n"
      ],
      "execution_count": null,
      "outputs": []
    },
    {
      "cell_type": "code",
      "metadata": {
        "id": "yYLRLchgLH5U",
        "colab": {
          "base_uri": "https://localhost:8080/"
        },
        "outputId": "6c3adbbb-621a-470b-de5b-738f81d1f590"
      },
      "source": [
        "### Do not alter this cell\n",
        "flavor_profit = flavor_sales(prices_mat, costs_mat, sales_mat)\n",
        "### print the values\n",
        "print(\"=\"*80)\n",
        "print(\"Profit\\n\",flavor_profit)"
      ],
      "execution_count": null,
      "outputs": [
        {
          "output_type": "stream",
          "text": [
            "                    Yearly Profit\n",
            "RedVelvet                   41370\n",
            "Oreo                        19040\n",
            "SugarGlazed                 53260\n",
            "AlmondHoney                 23715\n",
            "Matcha                      61245\n",
            "StrawberryCream             18387\n",
            "BrownSugarBoba              30660\n",
            "FuritsAndNuts               39820\n",
            " DarkChocolate              44790\n",
            "ChocolateAndOrange          27615\n",
            "ChocoMint                   26156\n",
            "ChocoButterNaught           91770\n",
            "================================================================================\n",
            "Profit\n",
            " [ 7810  5240  3640  1570  8940   560   890   410   230   780  2310  8990\n",
            "  2100  3240  3440   320  1230    10    30     0    10    60  3120  5480\n",
            "  5990  6740  8540   140  4670   780   360   480   750   980  7810 16020\n",
            "  1860  1680  1710   345  2970   180   480   615   345   540  4500  8490\n",
            "  9675  7470 13275  1470  2655  1470   645  1440   390  1065  8235 13455\n",
            "  1890  3348  3321   702  1467   234   405   198   486   369  1863  4104\n",
            "  9810  3800  1540   140  1470   150   980   330   230   360  5520  6330\n",
            "  9560  9240  7080   980  1780     0    20     0    20   160  6700  4280\n",
            "  8970  3045   540  1440 11835    60    75     0   120     0 11835  6870\n",
            "  4860  1845   720   480   975  1110  1170   675  1335  1500  9480  3465\n",
            "  5954  5356  1014  1014  1014    91    39   104    26    13  4199  7332\n",
            " 10892  8204  9030  1400 13818   882   504  1246  1092  1386 10976 32340]\n"
          ],
          "name": "stdout"
        }
      ]
    },
    {
      "cell_type": "code",
      "metadata": {
        "id": "o7i7fpt1LH5U",
        "colab": {
          "base_uri": "https://localhost:8080/"
        },
        "outputId": "176beb80-4b25-4e0a-d11a-58479afbc75c"
      },
      "source": [
        "### identify the best-selling and least-selling flavors. You can use np.sort() or np.argmax() for this.\n",
        "###best_3_flavors = ### YOUR CODE HERE\n",
        "###worst_3_flavors = ### YOUR CODE HERE\n",
        "df_sales[\"sum\"] = df_sales.sum(axis = 1)\n",
        "df_sales.sort_values(\"sum\",axis=0, ascending=True, inplace=True, na_position='first')\n",
        "print(df_sales)\n",
        "best_3_flavors = [(df_sales.iloc[11]['flavor']),(df_sales.iloc[10]['flavor']),(df_sales.iloc[9]['flavor'])]\n",
        "print(\"best-selling\",best_3_flavors)\n",
        "worst_3_flavors = [(df_sales.iloc[0]['flavor']),(df_sales.iloc[1]['flavor']),(df_sales.iloc[2]['flavor'])]\n",
        "print(\"least-selling\",worst_3_flavors)"
      ],
      "execution_count": 17,
      "outputs": [
        {
          "output_type": "stream",
          "text": [
            "                  flavor  january  february  ...  november  december    sum\n",
            "3           almond honey      124       112  ...       300       566   3162\n",
            "9   chocolate and orange      324       123  ...       632       231   3682\n",
            "1                   oreo      210       324  ...       312       548   3808\n",
            "7        furits and nuts      478       462  ...       335       214   3982\n",
            "10            choco mint      458       412  ...       323       564   4024\n",
            "5       strawberry cream      210       372  ...       207       456   4086\n",
            "8         dark chocolate      598       203  ...       789       458   5972\n",
            "6       brown sugar boba      981       380  ...       552       633   6132\n",
            "4                 matcha      645       498  ...       549       897   8166\n",
            "0             red velvet      781       524  ...       231       899   8274\n",
            "2           sugar glazed      599       674  ...       781      1602  10652\n",
            "11   choco butter naught      778       586  ...       784      2310  13110\n",
            "\n",
            "[12 rows x 14 columns]\n",
            "best-selling ['choco butter naught', 'sugar glazed', 'red velvet']\n",
            "least-selling ['almond honey', 'chocolate and orange', 'oreo']\n"
          ],
          "name": "stdout"
        }
      ]
    },
    {
      "cell_type": "markdown",
      "metadata": {
        "id": "pQdmsw8jLH5U"
      },
      "source": [
        "## Part 3: Visualizing the Data (Optional for +40%)\n",
        "You can try to visualize the data in the most comprehensible chart that you can use."
      ]
    },
    {
      "cell_type": "code",
      "metadata": {
        "id": "XY6z5xvfLH5U"
      },
      "source": [
        "import matplotlib.pyplot as plt\n",
        "import matplotlib\n",
        "import seaborn as sns\n",
        "\n",
        "%matplotlib inline\n",
        "\n"
      ],
      "execution_count": 22,
      "outputs": []
    },
    {
      "cell_type": "markdown",
      "metadata": {
        "id": "3_b06v7FLH5U"
      },
      "source": [
        "#### Entire Dataset"
      ]
    },
    {
      "cell_type": "code",
      "metadata": {
        "id": "whgU7kEjLH5V"
      },
      "source": [
        ""
      ],
      "execution_count": null,
      "outputs": []
    },
    {
      "cell_type": "markdown",
      "metadata": {
        "id": "TnRrvdn0LH5V"
      },
      "source": [
        "#### Monthly Sales"
      ]
    },
    {
      "cell_type": "code",
      "metadata": {
        "id": "4r7kCkm9LH5V",
        "colab": {
          "base_uri": "https://localhost:8080/",
          "height": 312
        },
        "outputId": "13a7cab7-6297-4b85-9875-0590123d0350"
      },
      "source": [
        "print(df_sales.plot('flavor',kind = 'hist'))\n",
        "plt.title ('Monthly Sales')\n",
        "plt.xlabel ('months')\n",
        "plt.show()"
      ],
      "execution_count": 25,
      "outputs": [
        {
          "output_type": "stream",
          "text": [
            "AxesSubplot(0.125,0.125;0.775x0.755)\n"
          ],
          "name": "stdout"
        },
        {
          "output_type": "display_data",
          "data": {
            "image/png": "[encoded data removed]",
            "text/plain": [
              "<Figure size 432x288 with 1 Axes>"
            ]
          },
          "metadata": {
            "tags": [],
            "needs_background": "light"
          }
        }
      ]
    },
    {
      "cell_type": "markdown",
      "metadata": {
        "id": "qQl5kt1oLH5V"
      },
      "source": [
        "#### Flavor Sales"
      ]
    },
    {
      "cell_type": "code",
      "metadata": {
        "id": "09csCLluLH5V"
      },
      "source": [
        ""
      ],
      "execution_count": null,
      "outputs": []
    },
    {
      "cell_type": "markdown",
      "metadata": {
        "id": "m09WIdTVLH5V"
      },
      "source": [
        "## Part 4: Business Recommendation and Conclusion\n",
        "Present the findings of your data analysis and provide recommendations"
      ]
    },
    {
      "cell_type": "markdown",
      "metadata": {
        "id": "7RvqmzHeLH5V"
      },
      "source": [
        "\n",
        "\n",
        "```\n",
        "# This is formatted as code\n",
        "```\n",
        "After analyzing, inputting, and visualizing the use of graphs, therefore, I conclude that neither Aling Bebang's sales have been good throughout the year because it is only sessional or there is only a particular month with strong sales from December to February. As data analysis, I suggest selling other products in the unmentioned months to grow the business further."
      ]
    }
  ]
}